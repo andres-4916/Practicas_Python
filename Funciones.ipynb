{
  "nbformat": 4,
  "nbformat_minor": 0,
  "metadata": {
    "colab": {
      "name": "Untitled0.ipynb",
      "provenance": [],
      "authorship_tag": "ABX9TyNonBF9bp3WM5U1St4bFhEP",
      "include_colab_link": true
    },
    "kernelspec": {
      "name": "python3",
      "display_name": "Python 3"
    },
    "language_info": {
      "name": "python"
    }
  },
  "cells": [
    {
      "cell_type": "markdown",
      "metadata": {
        "id": "view-in-github",
        "colab_type": "text"
      },
      "source": [
        "<a href=\"https://colab.research.google.com/github/andres-4916/Practicas_Python/blob/main/Funciones.ipynb\" target=\"_parent\"><img src=\"https://colab.research.google.com/assets/colab-badge.svg\" alt=\"Open In Colab\"/></a>"
      ]
    },
    {
      "cell_type": "code",
      "metadata": {
        "id": "ZcSw_1jmsGUe"
      },
      "source": [
        "#Declaracion de funciones\n",
        "#Funcion sin parametros \n",
        "\n",
        "def funcion1 ():\n",
        "       #Contenido de funcion\n",
        "       print(\"Has llamado a la funcion 1\")\n",
        "\n",
        "#Funcion con parametros y retorno\n",
        "def funcion2 (a,b):\n",
        "      #Contenido de la funcion\n",
        "      c=int(a)+int(b)\n",
        "      return c"
      ],
      "execution_count": null,
      "outputs": []
    },
    {
      "cell_type": "code",
      "metadata": {
        "colab": {
          "base_uri": "https://localhost:8080/"
        },
        "id": "PEF4651btQW6",
        "outputId": "26da5cb9-9308-4e8c-db77-0143bb3ef1f9"
      },
      "source": [
        "#Llamamos las funciones declaradas en otro archivo\n",
        "#from FuncionesExternas import *\n",
        "\n",
        "#Invocamos las funciones\n",
        "funcion1()\n",
        "#Invocamos la otra funcion\n",
        "Q=input('introduzca un dato:')\n",
        "W=input('Introduzca otro dato:')\n",
        "print(funcion2(Q,W))"
      ],
      "execution_count": 10,
      "outputs": [
        {
          "output_type": "stream",
          "text": [
            "Has llamado a la funcion 1\n",
            "introduzca un dato:1\n",
            "Introduzca otro dato:2\n",
            "3\n"
          ],
          "name": "stdout"
        }
      ]
    }
  ]
}